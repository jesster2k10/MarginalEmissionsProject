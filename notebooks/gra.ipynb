{
 "cells": [
  {
   "cell_type": "code",
   "execution_count": 2,
   "metadata": {},
   "outputs": [],
   "source": [
    "import pandas as pd\n",
    "import sys\n",
    "import os\n",
    "import numpy as np\n",
    "from sklearn.decomposition import PCA\n",
    "from sklearn.preprocessing import MinMaxScaler\n",
    "sys.path.insert(0, os.path.abspath('../')) \n",
    "from lib.common import constants as k\n",
    "from lib.common import gra\n",
    "from lib.eirgrid import data as eirgrid_data\n",
    "from lib.common.marginal_emissions import compute_mef"
   ]
  },
  {
   "cell_type": "code",
   "execution_count": 3,
   "metadata": {},
   "outputs": [],
   "source": [
    "fuel_mix = pd.read_csv(k.PROCESSED_DATA_DIR / 'fuel_mix.csv', index_col=0)\n",
    "fuel_mix.rename(columns={'StartTime': 'EffectiveTime'}, inplace=True)\n",
    "fuel_mix['EffectiveTime'] = pd.to_datetime(fuel_mix['EffectiveTime'])\n",
    "                                           \n",
    "pricing  = pd.read_csv(k.RAW_DATA_DIR / 'semo' / 'price_all_latest.csv', index_col=0)\n",
    "pricing = pricing[['StartTime', 'NetImbalanceVolume', 'ImbalanceSettlementPrice']]\n",
    "pricing.rename(columns={'StartTime': 'EffectiveTime'}, inplace=True)\n",
    "pricing['EffectiveTime'] = pd.to_datetime(pricing['EffectiveTime'])\n",
    "\n",
    "eirgrid = compute_mef(eirgrid_data.system()).dropna().replace([np.inf, -np.inf], np.nan).ffill()"
   ]
  },
  {
   "cell_type": "code",
   "execution_count": 4,
   "metadata": {},
   "outputs": [
    {
     "data": {
      "text/plain": [
       "((119997, 24),\n",
       " EffectiveTime                datetime64[ns]\n",
       " SysFrequency                        float64\n",
       " Co2Emissions                        float64\n",
       " Co2Intensity                        float64\n",
       " SystemDemand                        float64\n",
       " GenExp                              float64\n",
       " InterNet                            float64\n",
       " WindActual                          float64\n",
       " MarginalEmissions                   float64\n",
       " Fuel_Battery_Storage                float64\n",
       " Fuel_Biomass_Peat                   float64\n",
       " Fuel_Coal                           float64\n",
       " Fuel_Distillate                     float64\n",
       " Fuel_Gas                            float64\n",
       " Fuel_Oil                            float64\n",
       " Fuel_Other_Non_Renewable            float64\n",
       " Fuel_Other_Renewable                float64\n",
       " Fuel_Pumped_Storage_Hydro           float64\n",
       " Fuel_Renewable_Hydro                float64\n",
       " Fuel_Solar                          float64\n",
       " Fuel_Waste                          float64\n",
       " Fuel_Wind                           float64\n",
       " NetImbalanceVolume                  float64\n",
       " ImbalanceSettlementPrice            float64\n",
       " dtype: object)"
      ]
     },
     "execution_count": 4,
     "metadata": {},
     "output_type": "execute_result"
    }
   ],
   "source": [
    "combined_sys = eirgrid.merge(fuel_mix, on='EffectiveTime', how='left')\n",
    "combined_sys = combined_sys.merge(pricing, on='EffectiveTime', how='left')\n",
    "combined_sys.shape, combined_sys.dtypes"
   ]
  },
  {
   "cell_type": "code",
   "execution_count": 5,
   "metadata": {},
   "outputs": [],
   "source": [
    "def score(excluded_features=[]):\n",
    "  df = gra.dt_encode(combined_sys.drop(columns=excluded_features), 'EffectiveTime')\n",
    "  features = df.copy()\n",
    "  scaler = MinMaxScaler()\n",
    "  scaler.fit(features)\n",
    "  features[features.columns] = scaler.transform(features[features.columns])\n",
    "  target = features['MarginalEmissions']\n",
    "  features = features.drop(columns = 'MarginalEmissions')\n",
    "\n",
    "  grg = gra.grg(features, target)\n",
    "  display(features.shape)\n",
    "  return grg.mean()"
   ]
  },
  {
   "cell_type": "markdown",
   "metadata": {},
   "source": [
    "Scores without,\n",
    "* Pricing information\n",
    "* Frequency information\n",
    "* CI information\n",
    "\n",
    "---"
   ]
  },
  {
   "cell_type": "code",
   "execution_count": 6,
   "metadata": {},
   "outputs": [
    {
     "data": {
      "text/plain": [
       "(57716, 19)"
      ]
     },
     "metadata": {},
     "output_type": "display_data"
    },
    {
     "data": {
      "text/plain": [
       "Fuel_Other_Renewable         0.785356\n",
       "SystemDemand                 0.777216\n",
       "InterNet                     0.777019\n",
       "GenExp                       0.774400\n",
       "Fuel_Gas                     0.764736\n",
       "Fuel_Other_Non_Renewable     0.734765\n",
       "Fuel_Renewable_Hydro         0.704294\n",
       "WindActual                   0.682820\n",
       "Fuel_Wind                    0.679740\n",
       "Fuel_Coal                    0.676386\n",
       "EffectiveTime_cos            0.636831\n",
       "EffectiveTime_sin            0.636365\n",
       "Fuel_Waste                   0.636206\n",
       "Fuel_Biomass_Peat            0.629097\n",
       "Fuel_Oil                     0.561280\n",
       "Fuel_Pumped_Storage_Hydro    0.549927\n",
       "Fuel_Solar                   0.516363\n",
       "Fuel_Distillate              0.506322\n",
       "Fuel_Battery_Storage         0.495445\n",
       "dtype: float64"
      ]
     },
     "execution_count": 6,
     "metadata": {},
     "output_type": "execute_result"
    }
   ],
   "source": [
    "score(excluded_features=[\n",
    "  'SysFrequency',\n",
    "  'Co2Intensity',\n",
    "  'Co2Emissions',\n",
    "  'ImbalanceSettlementPrice',\n",
    "  'NetImbalanceVolume',\n",
    "])"
   ]
  },
  {
   "cell_type": "markdown",
   "metadata": {},
   "source": [
    "Scores without,\n",
    "* Pricing information"
   ]
  },
  {
   "cell_type": "code",
   "execution_count": 22,
   "metadata": {},
   "outputs": [
    {
     "data": {
      "text/plain": [
       "(57716, 22)"
      ]
     },
     "metadata": {},
     "output_type": "display_data"
    },
    {
     "data": {
      "text/plain": [
       "SysFrequency                 0.837926\n",
       "Fuel_Other_Renewable         0.785356\n",
       "SystemDemand                 0.777216\n",
       "InterNet                     0.777019\n",
       "GenExp                       0.774400\n",
       "Fuel_Gas                     0.764736\n",
       "Co2Intensity                 0.761515\n",
       "Fuel_Other_Non_Renewable     0.734765\n",
       "Fuel_Renewable_Hydro         0.704294\n",
       "Co2Emissions                 0.683564\n",
       "WindActual                   0.682820\n",
       "Fuel_Wind                    0.679740\n",
       "Fuel_Coal                    0.676386\n",
       "EffectiveTime_cos            0.636831\n",
       "EffectiveTime_sin            0.636365\n",
       "Fuel_Waste                   0.636206\n",
       "Fuel_Biomass_Peat            0.629097\n",
       "Fuel_Oil                     0.561280\n",
       "Fuel_Pumped_Storage_Hydro    0.549927\n",
       "Fuel_Solar                   0.516363\n",
       "Fuel_Distillate              0.506322\n",
       "Fuel_Battery_Storage         0.495445\n",
       "dtype: float64"
      ]
     },
     "execution_count": 22,
     "metadata": {},
     "output_type": "execute_result"
    }
   ],
   "source": [
    "score(excluded_features=[\n",
    "  'ImbalanceSettlementPrice',\n",
    "  'NetImbalanceVolume',\n",
    "])"
   ]
  },
  {
   "cell_type": "markdown",
   "metadata": {},
   "source": [
    "Scores without,\n",
    "* Carbon intensity\n",
    "* System frequency\n",
    "\n",
    "*NB: The data set is reduced from nearly 50,000 points to only 1469 (limited by pricing information)"
   ]
  },
  {
   "cell_type": "code",
   "execution_count": 24,
   "metadata": {},
   "outputs": [
    {
     "data": {
      "text/plain": [
       "(1469, 22)"
      ]
     },
     "metadata": {},
     "output_type": "display_data"
    },
    {
     "data": {
      "text/plain": [
       "Fuel_Other_Non_Renewable     0.880841\n",
       "NetImbalanceVolume           0.824185\n",
       "ImbalanceSettlementPrice     0.787317\n",
       "GenExp                       0.732600\n",
       "Fuel_Renewable_Hydro         0.715458\n",
       "SystemDemand                 0.710221\n",
       "Fuel_Other_Renewable         0.707512\n",
       "Co2Emissions                 0.703498\n",
       "Fuel_Gas                     0.702300\n",
       "InterNet                     0.677364\n",
       "WindActual                   0.667211\n",
       "Fuel_Wind                    0.666148\n",
       "EffectiveTime_sin            0.636399\n",
       "EffectiveTime_cos            0.635727\n",
       "Fuel_Biomass_Peat            0.605787\n",
       "Fuel_Waste                   0.578203\n",
       "Fuel_Oil                     0.568564\n",
       "Fuel_Solar                   0.565729\n",
       "Fuel_Coal                    0.551945\n",
       "Fuel_Pumped_Storage_Hydro    0.536869\n",
       "Fuel_Battery_Storage         0.492990\n",
       "Fuel_Distillate              0.486650\n",
       "dtype: float64"
      ]
     },
     "execution_count": 24,
     "metadata": {},
     "output_type": "execute_result"
    }
   ],
   "source": [
    "score(excluded_features=[\n",
    "  'SysFrequency',\n",
    "  'Co2Intensity',\n",
    "])"
   ]
  },
  {
   "cell_type": "markdown",
   "metadata": {},
   "source": [
    "Score with all fields"
   ]
  },
  {
   "cell_type": "code",
   "execution_count": 25,
   "metadata": {},
   "outputs": [
    {
     "data": {
      "text/plain": [
       "(1469, 24)"
      ]
     },
     "metadata": {},
     "output_type": "display_data"
    },
    {
     "data": {
      "text/plain": [
       "Fuel_Other_Non_Renewable     0.880841\n",
       "NetImbalanceVolume           0.824185\n",
       "ImbalanceSettlementPrice     0.787317\n",
       "SysFrequency                 0.785514\n",
       "Co2Intensity                 0.760462\n",
       "GenExp                       0.732600\n",
       "Fuel_Renewable_Hydro         0.715458\n",
       "SystemDemand                 0.710221\n",
       "Fuel_Other_Renewable         0.707512\n",
       "Co2Emissions                 0.703498\n",
       "Fuel_Gas                     0.702300\n",
       "InterNet                     0.677364\n",
       "WindActual                   0.667211\n",
       "Fuel_Wind                    0.666148\n",
       "EffectiveTime_sin            0.636399\n",
       "EffectiveTime_cos            0.635727\n",
       "Fuel_Biomass_Peat            0.605787\n",
       "Fuel_Waste                   0.578203\n",
       "Fuel_Oil                     0.568564\n",
       "Fuel_Solar                   0.565729\n",
       "Fuel_Coal                    0.551945\n",
       "Fuel_Pumped_Storage_Hydro    0.536869\n",
       "Fuel_Battery_Storage         0.492990\n",
       "Fuel_Distillate              0.486650\n",
       "dtype: float64"
      ]
     },
     "execution_count": 25,
     "metadata": {},
     "output_type": "execute_result"
    }
   ],
   "source": [
    "score()"
   ]
  }
 ],
 "metadata": {
  "kernelspec": {
   "display_name": "venv",
   "language": "python",
   "name": "python3"
  },
  "language_info": {
   "codemirror_mode": {
    "name": "ipython",
    "version": 3
   },
   "file_extension": ".py",
   "mimetype": "text/x-python",
   "name": "python",
   "nbconvert_exporter": "python",
   "pygments_lexer": "ipython3",
   "version": "3.11.5"
  }
 },
 "nbformat": 4,
 "nbformat_minor": 2
}
